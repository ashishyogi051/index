{
 "cells": [
  {
   "cell_type": "code",
   "execution_count": 1,
   "metadata": {},
   "outputs": [
    {
     "name": "stdout",
     "output_type": "stream",
     "text": [
      "Processing /home/pushkara/.cache/pip/wheels/08/71/4d/14c4f224e1947d071d50fb346434bb1775edb040a780fc57bd/bert_extractive_summarizer-0.5.0-py3-none-any.whl\n",
      "Collecting spacy\n",
      "  Using cached spacy-2.3.2-cp38-cp38-manylinux1_x86_64.whl (9.8 MB)\n",
      "Requirement already satisfied: transformers in /home/pushkara/anaconda3/lib/python3.8/site-packages (from bert-extractive-summarizer) (2.2.0)\n",
      "Requirement already satisfied: scikit-learn in /home/pushkara/anaconda3/lib/python3.8/site-packages (from bert-extractive-summarizer) (0.23.2)\n",
      "Collecting thinc==7.4.1\n",
      "  Using cached thinc-7.4.1-cp38-cp38-manylinux1_x86_64.whl (2.1 MB)\n",
      "Requirement already satisfied: srsly<1.1.0,>=1.0.2 in /home/pushkara/anaconda3/lib/python3.8/site-packages (from spacy->bert-extractive-summarizer) (1.0.2)\n",
      "Collecting cymem<2.1.0,>=2.0.2\n",
      "  Using cached cymem-2.0.3-cp38-cp38-manylinux1_x86_64.whl (33 kB)\n",
      "Requirement already satisfied: tqdm<5.0.0,>=4.38.0 in /home/pushkara/anaconda3/lib/python3.8/site-packages (from spacy->bert-extractive-summarizer) (4.49.0)\n",
      "Requirement already satisfied: catalogue<1.1.0,>=0.0.7 in /home/pushkara/anaconda3/lib/python3.8/site-packages (from spacy->bert-extractive-summarizer) (1.0.0)\n",
      "Collecting preshed<3.1.0,>=3.0.2\n",
      "  Using cached preshed-3.0.2-cp38-cp38-manylinux1_x86_64.whl (118 kB)\n",
      "Requirement already satisfied: wasabi<1.1.0,>=0.4.0 in /home/pushkara/anaconda3/lib/python3.8/site-packages (from spacy->bert-extractive-summarizer) (0.8.0)\n",
      "Requirement already satisfied: murmurhash<1.1.0,>=0.28.0 in /home/pushkara/anaconda3/lib/python3.8/site-packages (from spacy->bert-extractive-summarizer) (0.28.0)\n",
      "Requirement already satisfied: blis<0.5.0,>=0.4.0 in /home/pushkara/anaconda3/lib/python3.8/site-packages (from spacy->bert-extractive-summarizer) (0.4.1)\n",
      "Requirement already satisfied: requests<3.0.0,>=2.13.0 in /home/pushkara/anaconda3/lib/python3.8/site-packages (from spacy->bert-extractive-summarizer) (2.24.0)\n",
      "Requirement already satisfied: plac<1.2.0,>=0.9.6 in /home/pushkara/anaconda3/lib/python3.8/site-packages (from spacy->bert-extractive-summarizer) (0.9.6)\n",
      "Requirement already satisfied: numpy>=1.15.0 in /home/pushkara/anaconda3/lib/python3.8/site-packages (from spacy->bert-extractive-summarizer) (1.19.2)\n",
      "Requirement already satisfied: setuptools in /home/pushkara/anaconda3/lib/python3.8/site-packages (from spacy->bert-extractive-summarizer) (50.3.0)\n",
      "Requirement already satisfied: regex in /home/pushkara/anaconda3/lib/python3.8/site-packages (from transformers->bert-extractive-summarizer) (2020.6.8)\n",
      "Requirement already satisfied: sentencepiece in /home/pushkara/anaconda3/lib/python3.8/site-packages (from transformers->bert-extractive-summarizer) (0.1.91)\n",
      "Requirement already satisfied: boto3 in /home/pushkara/anaconda3/lib/python3.8/site-packages (from transformers->bert-extractive-summarizer) (1.14.60)\n",
      "Requirement already satisfied: sacremoses in /home/pushkara/anaconda3/lib/python3.8/site-packages (from transformers->bert-extractive-summarizer) (0.0.43)\n",
      "Requirement already satisfied: scipy>=0.19.1 in /home/pushkara/anaconda3/lib/python3.8/site-packages (from scikit-learn->bert-extractive-summarizer) (1.5.2)\n",
      "Requirement already satisfied: threadpoolctl>=2.0.0 in /home/pushkara/anaconda3/lib/python3.8/site-packages (from scikit-learn->bert-extractive-summarizer) (2.1.0)\n",
      "Requirement already satisfied: joblib>=0.11 in /home/pushkara/anaconda3/lib/python3.8/site-packages (from scikit-learn->bert-extractive-summarizer) (0.16.0)\n",
      "Requirement already satisfied: urllib3!=1.25.0,!=1.25.1,<1.26,>=1.21.1 in /home/pushkara/anaconda3/lib/python3.8/site-packages (from requests<3.0.0,>=2.13.0->spacy->bert-extractive-summarizer) (1.25.10)\n",
      "Requirement already satisfied: chardet<4,>=3.0.2 in /home/pushkara/anaconda3/lib/python3.8/site-packages (from requests<3.0.0,>=2.13.0->spacy->bert-extractive-summarizer) (3.0.4)\n",
      "Requirement already satisfied: certifi>=2017.4.17 in /home/pushkara/anaconda3/lib/python3.8/site-packages (from requests<3.0.0,>=2.13.0->spacy->bert-extractive-summarizer) (2020.6.20)\n",
      "Requirement already satisfied: idna<3,>=2.5 in /home/pushkara/anaconda3/lib/python3.8/site-packages (from requests<3.0.0,>=2.13.0->spacy->bert-extractive-summarizer) (2.10)\n",
      "Requirement already satisfied: s3transfer<0.4.0,>=0.3.0 in /home/pushkara/anaconda3/lib/python3.8/site-packages (from boto3->transformers->bert-extractive-summarizer) (0.3.3)\n",
      "Requirement already satisfied: jmespath<1.0.0,>=0.7.1 in /home/pushkara/anaconda3/lib/python3.8/site-packages (from boto3->transformers->bert-extractive-summarizer) (0.10.0)\n",
      "Requirement already satisfied: botocore<1.18.0,>=1.17.60 in /home/pushkara/anaconda3/lib/python3.8/site-packages (from boto3->transformers->bert-extractive-summarizer) (1.17.60)\n",
      "Requirement already satisfied: six in /home/pushkara/anaconda3/lib/python3.8/site-packages (from sacremoses->transformers->bert-extractive-summarizer) (1.15.0)\n",
      "Requirement already satisfied: click in /home/pushkara/anaconda3/lib/python3.8/site-packages (from sacremoses->transformers->bert-extractive-summarizer) (7.1.2)\n",
      "Requirement already satisfied: docutils<0.16,>=0.10 in /home/pushkara/anaconda3/lib/python3.8/site-packages (from botocore<1.18.0,>=1.17.60->boto3->transformers->bert-extractive-summarizer) (0.15.2)\n",
      "Requirement already satisfied: python-dateutil<3.0.0,>=2.1 in /home/pushkara/anaconda3/lib/python3.8/site-packages (from botocore<1.18.0,>=1.17.60->boto3->transformers->bert-extractive-summarizer) (2.8.1)\n",
      "Installing collected packages: cymem, preshed, thinc, spacy, bert-extractive-summarizer\n",
      "  Attempting uninstall: cymem\n",
      "    Found existing installation: cymem 1.31.2\n",
      "    Uninstalling cymem-1.31.2:\n",
      "      Successfully uninstalled cymem-1.31.2\n",
      "  Attempting uninstall: preshed\n",
      "    Found existing installation: preshed 1.0.1\n",
      "    Uninstalling preshed-1.0.1:\n",
      "      Successfully uninstalled preshed-1.0.1\n",
      "  Attempting uninstall: thinc\n",
      "    Found existing installation: thinc 6.10.3\n",
      "    Uninstalling thinc-6.10.3:\n",
      "      Successfully uninstalled thinc-6.10.3\n",
      "Successfully installed bert-extractive-summarizer-0.5.0 cymem-2.0.3 preshed-3.0.2 spacy-2.3.2 thinc-7.4.1\n"
     ]
    }
   ],
   "source": [
    "!pip install bert-extractive-summarizer"
   ]
  },
  {
   "cell_type": "code",
   "execution_count": 1,
   "metadata": {},
   "outputs": [],
   "source": [
    "from summarizer import Summarizer"
   ]
  },
  {
   "cell_type": "code",
   "execution_count": 4,
   "metadata": {},
   "outputs": [
    {
     "name": "stdout",
     "output_type": "stream",
     "text": [
      "Arthur Samuel, a pioneer in the field of artificial intelligence and computer gaming, coined the term “Machine Learning”. In a very layman manner, Machine Learning(ML) can be explained as automating and improving the learning process of computers based on their experiences without being actually programmed i.e. without any human assistance. The choice of algorithms depends on what type of data do we have and what kind of task we are trying to automate.\n"
     ]
    }
   ],
   "source": [
    "model = Summarizer()\n",
    "text=\"\"\"Arthur Samuel, a pioneer in the field of artificial intelligence and computer gaming, coined the term “Machine Learning”. He defined machine learning as – “Field of study that gives computers the capability to learn without being explicitly programmed”.\n",
    "In a very layman manner, Machine Learning(ML) can be explained as automating and improving the learning process of computers based on their experiences without being actually programmed i.e. without any human assistance. The process starts with feeding good quality data and then training our machines(computers) by building machine learning models using the data and different algorithms. The choice of algorithms depends on what type of data do we have and what kind of task we are trying to automate.\n",
    " \n",
    "Example: Training of students during exam.\n",
    "While preparing for the exams students don’t actually cram the subject but try to learn it with complete understanding. Before the examination, they feed their machine(brain) with a good amount of high-quality data (questions and answers from different books or teachers notes or online video lectures). Actually, they are training their brain with input as well as output i.e. what kind of approach or logic do they have to solve a different kind of questions. Each time they solve practice test papers and find the performance (accuracy /score) by comparing answers with answer key given, Gradually, the performance keeps on increasing, gaining more confidence with the adopted approach. That’s how actually models are built, train machine with data (both inputs and outputs are given to model) and when the time comes test on data (with input only) and achieves our model scores by comparing its answer with the actual output which has not been fed while training. Researchers are working with assiduous efforts to improve algorithms, techniques so that these models perform even much better\n",
    ".\"\"\"\n",
    "result = model(text, min_length=20)\n",
    "summary = \"\".join(result)\n",
    "print(summary)"
   ]
  },
  {
   "cell_type": "code",
   "execution_count": null,
   "metadata": {},
   "outputs": [],
   "source": []
  }
 ],
 "metadata": {
  "kernelspec": {
   "display_name": "Python 3",
   "language": "python",
   "name": "python3"
  },
  "language_info": {
   "codemirror_mode": {
    "name": "ipython",
    "version": 3
   },
   "file_extension": ".py",
   "mimetype": "text/x-python",
   "name": "python",
   "nbconvert_exporter": "python",
   "pygments_lexer": "ipython3",
   "version": "3.8.3"
  }
 },
 "nbformat": 4,
 "nbformat_minor": 4
}
